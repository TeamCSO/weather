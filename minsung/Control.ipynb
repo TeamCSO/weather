{
 "cells": [
  {
   "cell_type": "code",
   "execution_count": 4,
   "metadata": {},
   "outputs": [],
   "source": [
    "import pandas as pd\n",
    "import numpy as np"
   ]
  },
  {
   "cell_type": "code",
   "execution_count": 7,
   "metadata": {},
   "outputs": [],
   "source": [
    "all_df = pd.read_csv('data/df/all_df.csv')"
   ]
  },
  {
   "cell_type": "code",
   "execution_count": 11,
   "metadata": {},
   "outputs": [],
   "source": [
    "# all_df.iloc[200]"
   ]
  },
  {
   "cell_type": "code",
   "execution_count": 10,
   "metadata": {},
   "outputs": [],
   "source": [
    "index = 200\n",
    "diff = all_df.loc[index,'in_tmperature'] - all_df.loc[index-1,'in_tmperature']\n",
    "if diff > 0.09:\n",
    "    all_df.loc[index, 'shield_energy_h'] = diff * 3\n",
    "# print(all_df.iloc[index])"
   ]
  },
  {
   "cell_type": "code",
   "execution_count": 6,
   "metadata": {},
   "outputs": [],
   "source": [
    "data = {'col1':[1,2,3,4],'col2':[5,6,7,8]}\n",
    "data = pd.DataFrame(data)\n",
    "dif = data.loc[1,'col2']\n",
    "dif2 = data.iloc[1]"
   ]
  },
  {
   "cell_type": "code",
   "execution_count": 9,
   "metadata": {},
   "outputs": [],
   "source": [
    "# graph_df = all_df[all_df['Dates'].between('2022-03-04 00:00', '2022-03-13 23:59')]\n",
    "# graph_df.isnull().sum()"
   ]
  },
  {
   "cell_type": "code",
   "execution_count": 5,
   "metadata": {},
   "outputs": [],
   "source": [
    "def FindMinSupply(arr: np.array):\n",
    "    control_percent = ['shield_light_h','shield_tmperature_h','shield_energy_h','shield_energy_v','ceiling']\n",
    "    control_on_off = ['exhaust_fan','floating_fan','fan_coil_b_site']\n",
    "    min = 10\n",
    "    for i in range(0,101,20):\n",
    "        arr[control_percent[0]] = i\n",
    "        for j in  range(0,101,20):\n",
    "            arr[control_percent[1]] = j\n",
    "            for k in range(0, 101, 20):\n",
    "                arr[control_percent[2]] = k\n",
    "                for l in range(0, 101, 20):\n",
    "                    arr[control_percent[0]] = l\n",
    "                    for m in range(0, 101, 20):\n",
    "                        arr[control_percent[0]] = m\n",
    "                        for a in range(0, 2):\n",
    "                            arr[control_on_off[0]] = a\n",
    "                            for b in range(0, 2):\n",
    "                                arr[control_on_off[1]] = b\n",
    "                                for c in range(0, 2):\n",
    "                                    arr[control_on_off[2]] = c\n",
    "    return arr\n",
    "                                    \n",
    "    "
   ]
  },
  {
   "cell_type": "code",
   "execution_count": 31,
   "metadata": {},
   "outputs": [
    {
     "ename": "TypeError",
     "evalue": "randint() takes at least 1 positional argument (0 given)",
     "output_type": "error",
     "traceback": [
      "\u001b[0;31m---------------------------------------------------------------------------\u001b[0m",
      "\u001b[0;31mTypeError\u001b[0m                                 Traceback (most recent call last)",
      "\u001b[1;32m/Users/gello/Code/TeamCSO/kaggle/weather/minsung/Control.ipynb Cell 8'\u001b[0m in \u001b[0;36m<cell line: 8>\u001b[0;34m()\u001b[0m\n\u001b[1;32m      <a href='vscode-notebook-cell:/Users/gello/Code/TeamCSO/kaggle/weather/minsung/Control.ipynb#ch0000009?line=5'>6</a>\u001b[0m \u001b[39m# feature 값 생성\u001b[39;00m\n\u001b[1;32m      <a href='vscode-notebook-cell:/Users/gello/Code/TeamCSO/kaggle/weather/minsung/Control.ipynb#ch0000009?line=6'>7</a>\u001b[0m np\u001b[39m.\u001b[39mrandom\u001b[39m.\u001b[39mseed(\u001b[39m1\u001b[39m)\n\u001b[0;32m----> <a href='vscode-notebook-cell:/Users/gello/Code/TeamCSO/kaggle/weather/minsung/Control.ipynb#ch0000009?line=7'>8</a>\u001b[0m x1 \u001b[39m=\u001b[39m np\u001b[39m.\u001b[39;49mrandom\u001b[39m.\u001b[39;49mrandint()\n\u001b[1;32m      <a href='vscode-notebook-cell:/Users/gello/Code/TeamCSO/kaggle/weather/minsung/Control.ipynb#ch0000009?line=8'>9</a>\u001b[0m x2 \u001b[39m=\u001b[39m np\u001b[39m.\u001b[39mrandom\u001b[39m.\u001b[39mrandint(\u001b[39m100\u001b[39m,\u001b[39m20\u001b[39m)\n\u001b[1;32m     <a href='vscode-notebook-cell:/Users/gello/Code/TeamCSO/kaggle/weather/minsung/Control.ipynb#ch0000009?line=9'>10</a>\u001b[0m x3 \u001b[39m=\u001b[39m np\u001b[39m.\u001b[39mrandom\u001b[39m.\u001b[39mrandint(\u001b[39m100\u001b[39m,\u001b[39m20\u001b[39m)\n",
      "File \u001b[0;32mmtrand.pyx:646\u001b[0m, in \u001b[0;36mnumpy.random.mtrand.RandomState.randint\u001b[0;34m()\u001b[0m\n",
      "\u001b[0;31mTypeError\u001b[0m: randint() takes at least 1 positional argument (0 given)"
     ]
    }
   ],
   "source": [
    "import numpy as np\n",
    "import matplotlib as plt\n",
    "from model.predict import predictor\n",
    "pred = predictor()\n",
    "\n",
    "# feature 값 생성\n",
    "np.random.seed(1)\n",
    "x1 = np.random.randint(10)\n",
    "x2 = np.random.randint(100,20)\n",
    "x3 = np.random.randint(100,20)\n",
    "x4 = np.random.randint(100,20)\n",
    "x5 = np.random.randint(100,20)\n",
    "x6 = np.random.randint(100,20)\n",
    "x7 = np.random.randint(100,20)\n",
    "x8 = np.random.randint(2)\n",
    "print(x8)\n",
    "\n",
    "#  다항식 정의(도출하고자 하는 값)\n",
    "\n",
    "\n",
    "\n",
    "# #임의의 weight 값 생성\n",
    "# w1 = np.random.uniform(low=-1.0, high=1.0)\n",
    "# w2 = np.random.uniform(low=-1.0, high=1.0)\n",
    "# w3 = np.random.uniform(low=-1.0, high=1.0)\n",
    "\n",
    "# # bias값 생성\n",
    "# bias = np.random.uniform(low=-1.0, high=1.0)\n",
    "# print(\"구하고자하는 다항식: Y=0.3X1+0.5X2+0.6X3+0.8\")\n",
    "# print(f\"BGD 시작 다항식:Y={w1}X1+{w2}X2+{w3}+X3+{bias}\")\n",
    "# 구하고자하는 다항식: Y=0.3X1+0.5X2+0.6X3+0.8\n",
    "# BGD 시작 다항식:Y=0.6237173954410795X1+0.7499232899117962X2+0.3768265047718866+X3+0.13898882549075142\n",
    "# num_epoch=5000\n",
    "# learning_rate=0.5\n",
    "\n",
    "# for epoch in range(num_epoch):\n",
    "#     # 예측값\n",
    "#     predict = w1*x1 + w2*x2 + w3*x3 + bias\n",
    "    \n",
    "#     #error값\n",
    "#     error = ((predict - y)**2).mean()\n",
    "    \n",
    "#     # 가중치 업데이트\n",
    "#     w1 = w1 - 2*learning_rate*((predict - y)*x1).mean()\n",
    "#     w2 = w2 - 2*learning_rate*((predict - y)*x2).mean()\n",
    "#     w3 = w3 - 2*learning_rate*((predict - y)*x3).mean()\n",
    "#     bias = bias - 2*learning_rate * (predict - y).mean()\n",
    "    \n",
    "#     if epoch%10 == 0:        \n",
    "#         print(\"epoch\", epoch, \"w1= \", w1 , \"w2= \", w2, \"w3= \", w3,\"bias= \", bias, \"error= \", error)\n",
    "        \n",
    "#     if error < 0.000001:\n",
    "#         break"
   ]
  },
  {
   "cell_type": "code",
   "execution_count": null,
   "metadata": {},
   "outputs": [],
   "source": []
  }
 ],
 "metadata": {
  "kernelspec": {
   "display_name": "Python 3.9.7 ('Kaggle-grAO6nOw')",
   "language": "python",
   "name": "python3"
  },
  "language_info": {
   "codemirror_mode": {
    "name": "ipython",
    "version": 3
   },
   "file_extension": ".py",
   "mimetype": "text/x-python",
   "name": "python",
   "nbconvert_exporter": "python",
   "pygments_lexer": "ipython3",
   "version": "3.9.7"
  },
  "orig_nbformat": 4,
  "vscode": {
   "interpreter": {
    "hash": "48318580a122d278d6bfe7e5b32ad1bfb6fc58c17b58333be7c30cbb83f45e91"
   }
  }
 },
 "nbformat": 4,
 "nbformat_minor": 2
}
