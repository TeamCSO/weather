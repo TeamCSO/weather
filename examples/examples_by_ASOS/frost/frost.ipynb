{
 "cells": [
  {
   "cell_type": "code",
   "execution_count": null,
   "metadata": {
    "collapsed": true
   },
   "outputs": [],
   "source": [
    "import os\n",
    "import sys\n",
    "import glob\n",
    "import pandas as pd\n",
    "import seaborn as sns\n",
    "import matplotlib.pyplot as plt\n",
    "import statsmodels.api as sm\n",
    "import h2o\n",
    "import numpy as np\n",
    "\n",
    "from sklearn.preprocessing import MinMaxScaler\n",
    "from sklearn.model_selection import train_test_split\n",
    "from sklearn.metrics import classification_report, confusion_matrix\n",
    "from sklearn.ensemble import GradientBoostingClassifier\n",
    "from h2o.estimators.glm import H2OGeneralizedLinearEstimator\n",
    "from h2o.estimators.gbm import H2OGradientBoostingEstimator\n",
    "from h2o.estimators.random_forest import H2ORandomForestEstimator\n",
    "from h2o.grid.grid_search import H2OGridSearch"
   ]
  },
  {
   "cell_type": "code",
   "execution_count": null,
   "metadata": {
    "collapsed": true
   },
   "outputs": [],
   "source": [
    "#============================================================\n",
    "# 분석 환경 셋팅\n",
    "#============================================================\n",
    "sys.stdout.flush() #Python 메모리에 생성된 모든 객체 삭제(초기화)\n",
    "\n",
    "#============================================================\n",
    "# 작업 디렉토리 경로 확인\n",
    "#============================================================\n",
    "currentPath=os.getcwd()\n",
    "print('Current working dir : %s' % currentPath)\n",
    "\n",
    "#============================================================\n",
    "# 기상 데이터 읽어오기 \n",
    "#============================================================\n",
    "ASOS_DATA = pd.read_csv(currentPath + '/ASOS_DATA.csv', encoding='euc-kr') #loading  weather data\n",
    "GEO_DATA = pd.read_csv(currentPath + '/GEO_DATA.csv', encoding='euc-kr') #loading geographical data\n",
    "\n",
    "#============================================================\n",
    "# 불러온 데이터 구조 확인하기 \n",
    "#============================================================\n",
    "ASOS_DATA.info()\n",
    "GEO_DATA.info()"
   ]
  },
  {
   "cell_type": "code",
   "execution_count": null,
   "metadata": {
    "collapsed": true
   },
   "outputs": [],
   "source": [
    "#=============================================================\n",
    "# 테이블 결합 및 확인 \n",
    "#=============================================================\n",
    "DATA = pd.merge(ASOS_DATA, GEO_DATA, how='left', on='STNID')\n",
    "print(ASOS_DATA.columns)\n",
    "print(GEO_DATA.columns)\n",
    "print(DATA.columns)\n",
    "len(DATA)"
   ]
  },
  {
   "cell_type": "code",
   "execution_count": null,
   "metadata": {
    "collapsed": true
   },
   "outputs": [],
   "source": [
    "#=============================================================\n",
    "# 데이터 타입 확인\n",
    "#=============================================================\n",
    "print('** (변경전) MOUNTAIN, Y 컬럼 데이터 타입 확인')\n",
    "print('MOUNTAIN : ',DATA['MOUNTAIN'].dtype)\n",
    "print('Y : ', DATA['Y'].dtype)\n",
    "\n",
    "#=============================================================\n",
    "# 데이터 타입 변환\n",
    "#=============================================================  \n",
    "DATA['MOUNTAIN']=DATA['MOUNTAIN'].astype('category')\n",
    "DATA['Y']=DATA['Y'].astype('category')\n",
    "\n",
    "#=============================================================\n",
    "# 변환된 타입 확인\n",
    "#=============================================================\n",
    "print('** (변경후) MOUNTAIN, Y 컬럼 데이터 타입 확인')\n",
    "print('MOUNTAIN : ', DATA['MOUNTAIN'].dtype)\n",
    "print('Y : ', DATA['Y'].dtype)"
   ]
  },
  {
   "cell_type": "code",
   "execution_count": null,
   "metadata": {
    "collapsed": true
   },
   "outputs": [],
   "source": [
    "#=============================================================\n",
    "# 요약 통계 한번에 보기\n",
    "#=============================================================\n",
    "DATA.describe(include='all')"
   ]
  },
  {
   "cell_type": "code",
   "execution_count": null,
   "metadata": {
    "collapsed": true
   },
   "outputs": [],
   "source": [
    "#============================================================\n",
    "# 지점별 요약통계 보기 \n",
    "#============================================================\n",
    "grouped = DATA.groupby('STNID')\n",
    "grouped.describe(include='all')"
   ]
  },
  {
   "cell_type": "code",
   "execution_count": null,
   "metadata": {
    "collapsed": true
   },
   "outputs": [],
   "source": [
    "#============================================================\n",
    "# STN별 박스플롯 그리기\n",
    "#============================================================\n",
    "sns.set()\n",
    "sns.set_style(\"ticks\")\n",
    "%matplotlib inline\n",
    "\n",
    "col_bisque = [\"#ffebcd\"]\n",
    "col_blue = [\"#0000ff\"]\n",
    "col_gray = [\"#a9a9a9\"]\n",
    "col_red = [\"#ff0000\"]\n",
    "\n",
    "plt.figure(figsize=(12,6))\n",
    "plt.title(\"Boxplot of STD_TS by STN_ID\")\n",
    "sns.boxplot(x=\"STNID\", y=\"STD_TS\", data=DATA, palette = sns.color_palette(col_bisque))\n",
    "plt.show()\n",
    "\n",
    "plt.figure(figsize=(12,6))\n",
    "plt.title(\"Boxplot of AVG_TA by STN_ID\")\n",
    "sns.boxplot(x=\"STNID\", y=\"AVG_TA\", data=DATA, palette = sns.color_palette(col_blue))\n",
    "plt.show()\n",
    "\n",
    "plt.figure(figsize=(12,6))\n",
    "plt.title(\"Boxplot of MAX_WS by STN_ID\")\n",
    "sns.boxplot(x=\"STNID\", y=\"MAX_WS\", data=DATA, palette = sns.color_palette(col_gray))\n",
    "plt.show()\n",
    "\n",
    "plt.figure(figsize=(12,6))\n",
    "plt.title(\"Boxplot of MIN_TCA by STN_ID\")\n",
    "sns.boxplot(x=\"STNID\", y=\"MIN_TCA\", data=DATA, palette = sns.color_palette(col_red))\n",
    "plt.show()"
   ]
  },
  {
   "cell_type": "code",
   "execution_count": null,
   "metadata": {
    "collapsed": true
   },
   "outputs": [],
   "source": [
    "#============================================================\n",
    "# Histogram 그리기 \n",
    "#============================================================\n",
    "plt.figure(figsize=(12,6))\n",
    "plt.title(\"Histogram of STD_TS\")\n",
    "plt.xlabel('STD_TS')\n",
    "plt.ylabel('Freqeuncy')\n",
    "plt.hist(DATA['STD_TS'].dropna(), color = col_bisque)\n",
    "plt.show()\n",
    "\n",
    "plt.figure(figsize=(12,6))\n",
    "plt.title(\"Histogram of AVG_TA\")\n",
    "plt.xlabel('AVG_TA')\n",
    "plt.ylabel('Freqeuncy')\n",
    "plt.hist(DATA['AVG_TA'].dropna(), color = col_blue)\n",
    "plt.show()\n",
    "\n",
    "plt.figure(figsize=(12,6))\n",
    "plt.title(\"Histogram of MAX_WS\")\n",
    "plt.xlabel('MAX_WS')\n",
    "plt.ylabel('Freqeuncy')\n",
    "plt.hist(DATA['MAX_WS'].dropna(), color = col_gray)\n",
    "plt.show()\n",
    "\n",
    "plt.figure(figsize=(12,6))\n",
    "plt.title(\"Histogram of MIN_TCA\")\n",
    "plt.xlabel('MIN_TCA')\n",
    "plt.ylabel('Freqeuncy')\n",
    "plt.hist(DATA['MIN_TCA'].dropna(), color = col_red)\n",
    "plt.show()"
   ]
  },
  {
   "cell_type": "code",
   "execution_count": null,
   "metadata": {
    "collapsed": true
   },
   "outputs": [],
   "source": [
    "#=============================================================\n",
    "# 이상치 확인\n",
    "#=============================================================\n",
    "DATA.describe(include='all')\n",
    "\n",
    "#=============================================================\n",
    "# 예시 : 기온 관련 변수 이상치 처리 방법 (기준값 : -80 ~ 60℃)\n",
    "#=============================================================  \n",
    "DATA.at[(DATA['MIN_TA'] < -80) | (DATA['MIN_TA'] > 60), 'MIN_TA'] = np.nan\n",
    "DATA.at[(DATA['MAX_TA'] < -80) | (DATA['MAX_TA'] > 60), 'MAX_TA'] = np.nan\n",
    "DATA.at[(DATA['AVG_TA'] < -80) | (DATA['AVG_TA'] > 60), 'AVG_TA'] = np.nan\n",
    "DATA.at[(DATA['STD_TA'] < -80) | (DATA['STD_TA'] > 60), 'STD_TA'] = np.nan\n",
    "DATA.describe(include = 'all')"
   ]
  },
  {
   "cell_type": "code",
   "execution_count": null,
   "metadata": {
    "collapsed": true
   },
   "outputs": [],
   "source": [
    "#=============================================================\n",
    "# 결측치 확인\n",
    "#=============================================================\n",
    "DATA.isnull().sum()\n",
    "\n",
    "#=============================================================\n",
    "# 예시 : 강수량(RN), 일조(SS), 일사(SI) 관련 변수를 0으로 치환\n",
    "#=============================================================  \n",
    "DATA['AVG_RN'] = DATA['AVG_RN'].fillna(0)\n",
    "DATA['SUM_RN'] = DATA['SUM_RN'].fillna(0)\n",
    "DATA['MIN_SS'] = DATA['MIN_SS'].fillna(0)\n",
    "DATA['MAX_SS'] = DATA['MAX_SS'].fillna(0)\n",
    "DATA['AVG_SS'] = DATA['AVG_SS'].fillna(0)\n",
    "DATA['STD_SS'] = DATA['STD_SS'].fillna(0)\n",
    "DATA['MIN_SI'] = DATA['MIN_SI'].fillna(0)\n",
    "DATA['MAX_SI'] = DATA['MAX_SI'].fillna(0)\n",
    "DATA['AVG_SI'] = DATA['AVG_SI'].fillna(0)\n",
    "DATA['STD_SI'] = DATA['STD_SI'].fillna(0)\n",
    "\n",
    "# 데이터 결측치 확인\n",
    "DATA.isnull().sum()\n",
    "DATA.isnull().sum().sum()"
   ]
  },
  {
   "cell_type": "code",
   "execution_count": null,
   "metadata": {
    "collapsed": true
   },
   "outputs": [],
   "source": [
    "#=============================================================\n",
    "# 기온(최고-최저) 파생변수 생성\n",
    "#=============================================================  \n",
    "DATA['MMT_TA']=DATA['MAX_TA']-DATA['MIN_TA']\n",
    "\n",
    "#=============================================================\n",
    "# 현상 발생 월, 시간 파생변수 생성 및 타입 변환\n",
    "#=============================================================\n",
    "DATA['MONTH'] = DATA['TM'].str.slice(5,7)\n",
    "DATA['HOUR'] = DATA['TM'].str.slice(11,13)\n",
    "\n",
    "DATA['MONTH'] = DATA['MONTH'].astype('category')\n",
    "DATA['HOUR'] = DATA['HOUR'].astype('category')\n",
    "\n",
    "DATA.info()"
   ]
  },
  {
   "cell_type": "code",
   "execution_count": null,
   "metadata": {
    "collapsed": true
   },
   "outputs": [],
   "source": [
    "#=============================================================\n",
    "# 로컬에 H2O 가상서버 설정하기\n",
    "#=============================================================\n",
    "h2o.init(max_mem_size = \"4G\", nthreads = 4)\n",
    "h2o.remove_all()"
   ]
  },
  {
   "cell_type": "code",
   "execution_count": null,
   "metadata": {
    "collapsed": true
   },
   "outputs": [],
   "source": [
    "#=============================================================\n",
    "# 데이터 분할\n",
    "#=============================================================\n",
    "DATA = DATA.drop(['TM', 'MIN_SI', 'MIN_SS'], axis=1)\n",
    "data_hex = h2o.H2OFrame(DATA)\n",
    "\n",
    "data_hex['Y']=data_hex['Y'].asfactor()\n",
    "data_hex['MOUNTAIN']=data_hex['MOUNTAIN'].asfactor()\n",
    "data_hex['MONTH']=data_hex['MONTH'].asfactor()\n",
    "data_hex['HOUR']=data_hex['HOUR'].asfactor()\n",
    "\n",
    "train_data, test_data = data_hex.split_frame([0.8], seed=1234)\n",
    "\n",
    "#=============================================================\n",
    "# 분할된 데이터 셋 확인\n",
    "#=============================================================\n",
    "print(len(data_hex))\n",
    "print(len(train_data))\n",
    "print(len(test_data))"
   ]
  },
  {
   "cell_type": "code",
   "execution_count": null,
   "metadata": {
    "collapsed": true
   },
   "outputs": [],
   "source": [
    "#=============================================================\n",
    "# 변수들간 다중공선성 제거\n",
    "#=============================================================\n",
    "# 상관계수를 구하기 전 범주형 변수 제외\n",
    "X = DATA.drop(['STNID', 'Y', 'MOUNTAIN', 'MONTH', 'HOUR'], axis=1)\n",
    "X.info()\n",
    "\n",
    "# 변수들 간의 상관계수 산출\n",
    "corr = X.corr()\n",
    "Abs_corr = pd.DataFrame(abs(corr))\n",
    "Abs_corr['variable']=Abs_corr.index\n",
    "Abs_corr.reset_index(drop=True, inplace=True)\n",
    "Abs_corr.info()\n",
    "\n",
    "#=============================================================\n",
    "# variable importance 산출하기 \n",
    "#=============================================================\n",
    "new_data_hex = train_data.drop(['STNID','Y'], axis=1)\n",
    "\n",
    "xList = new_data_hex.columns\n",
    "y = \"Y\"\n",
    "\n",
    "gbm = H2OGradientBoostingEstimator(ntrees=50, max_depth=5, seed=1234)\n",
    "gbm.train(x = xList, y = y, training_frame = data_hex)\n",
    "gbm\n",
    "\n",
    "varimp = gbm.varimp(True)\n",
    "varimp = varimp[varimp.variable != 'MOUNTAIN']\n",
    "varimp = varimp[varimp.variable != 'MONTH']\n",
    "varimp = varimp[varimp.variable != 'HOUR']\n",
    "\n",
    "varimp"
   ]
  },
  {
   "cell_type": "code",
   "execution_count": null,
   "metadata": {
    "collapsed": true
   },
   "outputs": [],
   "source": [
    "#=============================================================\n",
    "# 다중공선성 제거\n",
    "#=============================================================\n",
    "\n",
    "finalvar = varimp \n",
    "j=0\n",
    "\n",
    "while j < len(finalvar.variable):\n",
    "    tmp = Abs_corr[(Abs_corr.variable != 'y') & (Abs_corr.variable != finalvar.variable[j])].loc[:,['variable',finalvar.variable[j]]]\n",
    "    tmp.columns = ['variable', 'Pearson']\n",
    "    tmp.sort_values(['Pearson'], axis=0, ascending=False, inplace=True)\n",
    "    tmp = tmp[tmp.Pearson > 0.45]\n",
    "\n",
    "    finalvar = pd.merge(finalvar, tmp, how='left', on='variable')\n",
    "    finalvar = finalvar.loc[finalvar.isnull()['Pearson'], :]\n",
    "    finalvar = finalvar.reset_index(drop=True)\n",
    "    finalvar = finalvar.drop('Pearson',axis=1)\n",
    "    finalvar.sort_values(['scaled_importance'], axis=0, ascending=False, inplace=True)\n",
    "    j = j + 1\n",
    "\n",
    "finalvar #최종선택변수"
   ]
  },
  {
   "cell_type": "code",
   "execution_count": null,
   "metadata": {
    "collapsed": true
   },
   "outputs": [],
   "source": [
    "#=============================================================\n",
    "# 하이퍼파라미터 최적화 \n",
    "#=============================================================\n",
    "varList = list(finalvar['variable'])\n",
    "extList = ['MOUNTAIN', 'MONTH', 'HOUR']\n",
    "varList = varList + extList\n",
    "varList\n",
    "y = \"Y\"\n",
    "\n",
    "# 하이퍼파라미터 조합만들기\n",
    "hyper_params = {'sample_rate': [0.3, 0.4],\n",
    "                'max_depth': [18, 20, 25],\n",
    "                'ntrees': [25, 50]}\n",
    "\n",
    "# 조합 모형 돌리기\n",
    "m = H2OGridSearch(H2OGradientBoostingEstimator, grid_id = 'gbm_grid', hyper_params = hyper_params)\n",
    "m.train(x = varList, y = y, training_frame = train_data)\n",
    "\n",
    "# AUC가 높은 순으로 정렬하기\n",
    "sorted_grid = m.get_grid(sort_by = 'auc', decreasing=True)\n",
    "print('===== sorted_grid =====')\n",
    "print(sorted_grid)\n",
    "\n",
    "# 베스트 모형 선택\n",
    "best_model = h2o.get_model(sorted_grid.model_ids[0])\n",
    "print('===== best_model =====')\n",
    "print(best_model)"
   ]
  },
  {
   "cell_type": "code",
   "execution_count": null,
   "metadata": {
    "collapsed": true
   },
   "outputs": [],
   "source": [
    "#=============================================================\n",
    "# 모형 성능 및 예측력 검증\n",
    "#=============================================================\n",
    "# 최종 선택 모형 구축\n",
    "gbm_fit = H2OGradientBoostingEstimator(ntrees=50, max_depth=25, sample_rate = 0.4, seed=1234)\n",
    "gbm_fit.train(x = varList, y = y, training_frame = train_data)\n",
    "\n",
    "# 모형 성능 검증\n",
    "gbm_fit.auc()\n",
    "gbm_fit.confusion_matrix()\n",
    "\n",
    "per_gbm = gbm_fit.model_performance(test_data = test_data)\n",
    "per_gbm.auc()\n",
    "per_gbm.confusion_matrix()"
   ]
  },
  {
   "cell_type": "code",
   "execution_count": null,
   "metadata": {
    "collapsed": true
   },
   "outputs": [],
   "source": [
    "#=============================================================\n",
    "# 지점별 예측력 검증\n",
    "#=============================================================\n",
    "# STN별 리스트 생성\n",
    "STNList = DATA['STNID'].unique()\n",
    "\n",
    "# 결과 리스트 생성\n",
    "auc = list()\n",
    "confusion = list()\n",
    "\n",
    "# 지점별 데이터 셋 분할, 모형 구축, 예측력 검증\n",
    "for i in range(len(STNList)):\n",
    "    stn = STNList[i]\n",
    "    print(\"STNID : \", stn, \"...computing\")\n",
    "    train = data_hex[data_hex['STNID'] != int(stn), :]\n",
    "    valid = data_hex[data_hex['STNID'] == int(stn), :]\n",
    "    \n",
    "    m = H2OGradientBoostingEstimator(ntrees=50, max_depth=25, sample_rate = 0.4, seed=1)\n",
    "    m.train(x = varList, y = y, training_frame = train)\n",
    "    \n",
    "    per_m = m.model_performance(test_data = valid)\n",
    "\n",
    "    auc_df = pd.DataFrame({'STNID':[stn], '':[per_m.auc()]})\n",
    "    auc.append(auc_df)\n",
    "    \n",
    "    confusion_df = pd.DataFrame({'STNID':[stn], '':[per_m.confusion_matrix()]})\n",
    "    confusion.append(confusion_df)\n",
    "\n",
    "# STN별 교차검증 결과     \n",
    "auc_stnid = pd.concat(auc)\n",
    "confusion_stnid = pd.concat(confusion)\n",
    "\n",
    "print(auc_stnid)\n",
    "print(confusion_stnid)"
   ]
  }
 ],
 "metadata": {
  "kernelspec": {
   "display_name": "Python 3",
   "language": "python",
   "name": "python3"
  },
  "language_info": {
   "codemirror_mode": {
    "name": "ipython",
    "version": 3
   },
   "file_extension": ".py",
   "mimetype": "text/x-python",
   "name": "python",
   "nbconvert_exporter": "python",
   "pygments_lexer": "ipython3",
   "version": "3.6.1"
  }
 },
 "nbformat": 4,
 "nbformat_minor": 2
}
