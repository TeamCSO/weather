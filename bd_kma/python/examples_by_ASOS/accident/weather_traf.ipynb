{
 "cells": [
  {
   "cell_type": "code",
   "execution_count": null,
   "metadata": {
    "collapsed": true,
    "id": "eIKQzA8NxT-X"
   },
   "outputs": [],
   "source": [
    "# 0. 컬럼명\t구분 \t명칭 ----\n",
    "#==============================================================#\n",
    "# _결과 ----\n",
    "# Y\t결과\t사고유무\n",
    "\n",
    "# _기타 ----\n",
    "# month\t사고 발생 월\n",
    "# hour\t사고 발생 시간\n",
    "\n",
    "# _교통류 ----\n",
    "# AVG_SPEED\t1시간 평균 속도\n",
    "# VOLUME_ALL\t1시간 총 교통량\n",
    "\n",
    "# _기상 ----\n",
    "# TA_MAX_2_STD\t이전 2시간 동안 최대 기온의 편차\n",
    "# WS_MAX_6_STD\t이전 6시간 동안 최대 풍속의 편차\n",
    "# WS_MAX_2_MIN\t이전 2시간 동안 최대 풍속의 최소\n",
    "# TA_MIN_6_MAX\t이전 6시간 동안 최소 기온의 최대\n",
    "# WS_AVG_2_STD\t이전 2시간 동안 평균 풍속의 편차\n",
    "# TA_MIN_6_STD\t이전 6시간 동안 최소 기온의 편차\n",
    "# RN_3_MAX\t이전 3시간 동안 강수의 최대\n",
    "\n",
    "# _기하구조 ----\n",
    "# GISID\t1KM 구간 번호\n",
    "# CONZONE\t콘존ID\n",
    "# BUSlane\t버스전용차로 유무\n",
    "# JD_3KM_STD\t이전 3KM 구간 동안 종단 편차\n",
    "# PM_3KM_STD\t이전 3KM 구간 동안 평면 편차\n",
    "# JD_1KM_AVG\t이전 1KM 구간 동안 종단 평균\n",
    "# KS_3KM_AVG\t이전 3KM 구간 동안 경사 평균\n",
    "# BY_3KM_STD\t이전 3KM 구간 동안 방영 편차\n",
    "# BY_3KM_AVG\t이전 3KM 구간 동안 방영 평균\n",
    "# SPEEDLIMIT\t제한속도"
   ]
  },
  {
   "cell_type": "code",
   "execution_count": null,
   "metadata": {
    "collapsed": true,
    "id": "gU4_5vjkxT-a"
   },
   "outputs": [],
   "source": [
    "# 1. 데이터 로딩 ----\n",
    "#==============================================================#\n",
    "# _패키지 로딩 ----\n",
    "#==============================================================#\n",
    "import pandas as pd # 데이터 분석을 위한 라이브러리\n",
    "import matplotlib.pyplot as plt # 시각화를 위한 라이브러리\n",
    "import seaborn as sns # 시각화를 위한 라이브러리\n",
    "import numpy as np # 다차원 배열을 위한 라이브러리\n",
    "import sys # 파이썬 인터프리터를 제어하는 라이브러리\n",
    "\n",
    "from sklearn.model_selection import train_test_split # 학습 및 테스트 데이터들을 무작위로 분할\n",
    "from sklearn.ensemble import GradientBoostingRegressor # 모델을 위한 라이브러리\n",
    "from sklearn.preprocessing import LabelEncoder # 원-핫 인코딩을 위한 라이브러리\n",
    "\n",
    "#================================================================#\n",
    "# _분석 환경 설정 ----\n",
    "#================================================================#\n",
    "\n",
    "# Python 메모리에 생성된 모든 객체 삭제(초기화)\n",
    "sys.stdout.flush()\n",
    "\n",
    "# 경고 메세지를 출력되지 않도록 합니다.\n",
    "import warnings\n",
    "warnings.filterwarnings(action=\"ignore\")\n",
    "\n",
    "\n",
    "#=============================================================\n",
    "# 작업 디렉터리 경로 확인\n",
    "#=============================================================\n",
    "import os\n",
    "currentPath = os.getcwd() # 현재 위치한 디렉토리 경로 확인\n",
    "print('Current working dir : %s' % currentPath)"
   ]
  },
  {
   "cell_type": "code",
   "execution_count": null,
   "metadata": {
    "collapsed": true,
    "id": "FWQkNRrvxT-b"
   },
   "outputs": [],
   "source": [
    "# 데이터 로딩\n",
    "#=============================================================\n",
    "# 데이터 읽어오기\n",
    "#=============================================================\n",
    "# 기상 데이터\n",
    "data_weather = pd.read_csv(\"weather.csv\")\n",
    "\n",
    "# 불러온 데이터 구조 확인하기\n",
    "data_weather.info()"
   ]
  },
  {
   "cell_type": "code",
   "execution_count": null,
   "metadata": {
    "collapsed": true,
    "id": "-FoHSlLXxT-c"
   },
   "outputs": [],
   "source": [
    "#=============================================================\n",
    "# 도로기하 데이터\n",
    "#=============================================================\n",
    "data_road = pd.read_csv(\"road.csv\")\n",
    "\n",
    "# 불러온 데이터 구조 확인하기\n",
    "data_road.info()"
   ]
  },
  {
   "cell_type": "code",
   "execution_count": null,
   "metadata": {
    "collapsed": true,
    "id": "DH4vaEzKxT-c"
   },
   "outputs": [],
   "source": [
    "#=============================================================\n",
    "# 교통류 데이터\n",
    "#=============================================================\n",
    "data_traf = pd.read_csv(\"traf.csv\")\n",
    "\n",
    "# 불러온 데이터 구조 확인하기\n",
    "data_traf.info()"
   ]
  },
  {
   "cell_type": "code",
   "execution_count": null,
   "metadata": {
    "collapsed": true,
    "id": "cndV8fd0xT-c"
   },
   "outputs": [],
   "source": [
    "#=============================================================\n",
    "# 데이터 결합\n",
    "#=============================================================\n",
    "# 테이블 결합 및 확인\n",
    "df_raw = pd.merge(data_weather, data_traf)\n",
    "weather_traf = pd.merge(df_raw, data_road)\n",
    "weather_traf.head()"
   ]
  },
  {
   "cell_type": "code",
   "execution_count": null,
   "metadata": {
    "collapsed": true,
    "id": "e_KqRY0LxT-d"
   },
   "outputs": [],
   "source": [
    "# 2. 데이터 탐색\n",
    "#=============================================================\n",
    "# 데이터 요약 : 타입확인\n",
    "weather_traf.info()"
   ]
  },
  {
   "cell_type": "code",
   "execution_count": null,
   "metadata": {
    "collapsed": true,
    "id": "6U4Ol5D7xT-d"
   },
   "outputs": [],
   "source": [
    "#=============================================================\n",
    "# 탐색적 데이터 분석\n",
    "#=============================================================\n",
    "# 데이터 기술·통계\n",
    "weather_traf.describe(include=\"all\")"
   ]
  },
  {
   "cell_type": "code",
   "execution_count": null,
   "metadata": {
    "collapsed": true,
    "id": "t6hRnbuWxT-e"
   },
   "outputs": [],
   "source": [
    "# 결측치 파악\n",
    "weather_traf.isnull().sum()"
   ]
  },
  {
   "cell_type": "code",
   "execution_count": null,
   "metadata": {
    "collapsed": true,
    "id": "vPZY327fxT-f"
   },
   "outputs": [],
   "source": [
    "#=============================================================\n",
    "# ___시각화\n",
    "# ___1km 구간에 따른 사고 빈도\n",
    "# 1km구간을 칭하는 GISID에 대해 각 Y는 SUM(), 각각의 하위 데이터는 Mean()을 하여 시각화\n",
    "# 색상코드\n",
    "# 기상: green\n",
    "# 기하: yellow\n",
    "# 교통: navy\n",
    "\n",
    "# ____ 기상\n",
    "#=============================================================\n",
    "# 1KM 구간에 따른 사고 빈도 (기상)\n",
    "#=============================================================\n",
    "plt.figure(figsize=(26, 24))\n",
    "for i, col in enumerate(weather_traf.filter(regex=\"TA|WS|RN\")):\n",
    "    weather_traf_1km = weather_traf.groupby(\"GISID\")[[col, \"Y\"]].agg({col:\"mean\", \"Y\":\"sum\"})\n",
    "    plt.subplot(4, 2, i + 1)\n",
    "    sns.scatterplot(data=weather_traf_1km, x=col, y=\"Y\", color=\"g\")\n",
    "    plt.title(col + \" by count \")"
   ]
  },
  {
   "cell_type": "code",
   "execution_count": null,
   "metadata": {
    "collapsed": true,
    "id": "RpEsyiJexT-f"
   },
   "outputs": [],
   "source": [
    "# ____ 기하구조\n",
    "#=============================================================\n",
    "# 1KM 구간에 따른 사고 빈도 (기하구조)\n",
    "#=============================================================\n",
    "plt.figure(figsize=(26, 24))\n",
    "for i, col in enumerate(weather_traf.filter(regex=\"JD|PM|KS|BY|LIMIT\")):\n",
    "    weather_traf_1km = weather_traf.groupby(\"GISID\")[[col, \"Y\"]].agg({col:\"mean\", \"Y\":\"sum\"})\n",
    "    plt.subplot(4, 2, i + 1)\n",
    "    sns.scatterplot(data=weather_traf_1km, x=col, y=\"Y\", color=\"y\")\n",
    "    plt.title(col + \" by count \")"
   ]
  },
  {
   "cell_type": "code",
   "execution_count": null,
   "metadata": {
    "collapsed": true,
    "id": "nV40oVPkxT-f"
   },
   "outputs": [],
   "source": [
    "# ____ 교통류\n",
    "#=============================================================\n",
    "# 1KM 구간에 따른 사고 빈도 (교통류)\n",
    "#=============================================================\n",
    "plt.figure(figsize=(12, 6))\n",
    "for i, col in enumerate(weather_traf.filter(regex=\"_SPEED|VOLUME\")):\n",
    "    weather_traf_1km = weather_traf.groupby(\"GISID\")[[col, \"Y\"]].agg({col:\"mean\", \"Y\":\"sum\"})\n",
    "    plt.subplot(1, 2, i + 1)\n",
    "    sns.scatterplot(data=weather_traf_1km, x=col, y=\"Y\", color=\"navy\")\n",
    "    plt.title(col + \" by count \")"
   ]
  },
  {
   "cell_type": "code",
   "execution_count": null,
   "metadata": {
    "collapsed": true,
    "id": "qlQRP5bmxT-g"
   },
   "outputs": [],
   "source": [
    "# ___콘존에 따른 사고 빈도\n",
    "# 콘존을 칭하는 CONZONE에 대해 각 Y는 SUM(), 각각의 하위 데이터는 Mean()을 하여 시각화\n",
    "# 색상코드\n",
    "# 기상: green\n",
    "# 기하: yellow\n",
    "# 교통: navy\n",
    "\n",
    "# ____ 기상\n",
    "#=============================================================\n",
    "# 콘존에 따른 사고 빈도 (기상)\n",
    "#=============================================================\n",
    "plt.figure(figsize=(26, 24))\n",
    "for i, col in enumerate(weather_traf.filter(regex=\"TA|WS|RN\")):\n",
    "    weather_traf_con = weather_traf.groupby(\"CONZONE\")[[col, \"Y\"]].agg({col:\"mean\", \"Y\":\"sum\"})\n",
    "    plt.subplot(4, 2, i + 1)\n",
    "    sns.scatterplot(data=weather_traf_con, x=col, y=\"Y\", color=\"g\")\n",
    "    plt.title(col + \" by count \")\n"
   ]
  },
  {
   "cell_type": "code",
   "execution_count": null,
   "metadata": {
    "collapsed": true,
    "id": "KRhgKDobxT-g"
   },
   "outputs": [],
   "source": [
    "# ____ 기하구조\n",
    "#=============================================================\n",
    "# 콘존에 따른 사고 빈도 (기하구조)\n",
    "#=============================================================\n",
    "plt.figure(figsize=(26, 24))\n",
    "for i, col in enumerate(weather_traf.filter(regex=\"JD|PM|KS|BY|LIMIT\")):\n",
    "    weather_traf_con = weather_traf.groupby(\"CONZONE\")[[col, \"Y\"]].agg({col:\"mean\", \"Y\":\"sum\"})\n",
    "    plt.subplot(4, 2, i + 1)\n",
    "    sns.scatterplot(data=weather_traf_con, x=col, y=\"Y\", color=\"y\")\n",
    "    plt.title(col + \" by count \")"
   ]
  },
  {
   "cell_type": "code",
   "execution_count": null,
   "metadata": {
    "collapsed": true,
    "id": "UuIFsVCcxT-g"
   },
   "outputs": [],
   "source": [
    "# ____ 교통류\n",
    "#=============================================================\n",
    "# 콘존에 따른 사고 빈도 (교통류)\n",
    "#=============================================================\n",
    "plt.figure(figsize=(12, 6))\n",
    "for i, col in enumerate(weather_traf.filter(regex=\"_SPEED|VOLUME\")):\n",
    "    weather_traf_con = weather_traf.groupby(\"CONZONE\")[[col,\"Y\"]].agg({col:\"mean\", \"Y\":\"sum\"})\n",
    "    plt.subplot(1, 2, i + 1)\n",
    "    sns.scatterplot(data=weather_traf_con, x=col, y=\"Y\", color=\"navy\")\n",
    "    plt.title(col + \" by count \")"
   ]
  },
  {
   "cell_type": "code",
   "execution_count": null,
   "metadata": {
    "collapsed": true,
    "id": "Cvbjs95GxT-h"
   },
   "outputs": [],
   "source": [
    "#=============================================================\n",
    "# 히스토그램 (발생건수, 빈도)\n",
    "#=============================================================\n",
    "sns.histplot(data=weather_traf, x=\"Y\", bins=15)\n",
    "plt.title(\"Frequency by count\")\n",
    "plt.xlabel(\"Count\")\n",
    "plt.ylabel(\"Frequency\")"
   ]
  },
  {
   "cell_type": "code",
   "execution_count": null,
   "metadata": {
    "collapsed": true,
    "id": "_lSiDbRRxT-h"
   },
   "outputs": [],
   "source": [
    "# 3. 데이터 처리\n",
    "#=============================================================\n",
    "# 이상치 제거 전\n",
    "#=============================================================\n",
    "print(\"이상치 제거 전:\", weather_traf.shape)\n",
    "\n",
    "# 이상치 제거\n",
    "weather_traf = weather_traf.loc[(weather_traf[\"TA_MAX_2_STD\"] < 7) &\n",
    "                                (weather_traf[\"WS_MAX_2_MIN\"] < 7) &\n",
    "                                (weather_traf[\"TA_MIN_6_STD\"] < 10) &\n",
    "                                (weather_traf[\"RN_3_MAX\"] < 20) &\n",
    "                                (weather_traf[\"PM_3KM_STD\"] < 10000)]\n",
    "\n",
    "# 이상치 제거 후\n",
    "print(\"이상치 제거 후:\", weather_traf.shape)"
   ]
  },
  {
   "cell_type": "code",
   "execution_count": null,
   "metadata": {
    "collapsed": true,
    "id": "Z--SUdtLxT-h"
   },
   "outputs": [],
   "source": [
    "# 4. 모형 구축\n",
    "# 분석 데이터 셋\n",
    "#=============================================================\n",
    "# 범주형 데이터를 수치데이터로 변환\n",
    "#=============================================================\n",
    "le = LabelEncoder()\n",
    "weather_traf[\"CONZONE\"] = le.fit_transform(weather_traf[\"CONZONE\"])\n",
    "weather_traf.columns[weather_traf.dtypes.values == \"object\"]"
   ]
  },
  {
   "cell_type": "code",
   "execution_count": null,
   "metadata": {
    "collapsed": true,
    "id": "KkXRlQmCxT-h"
   },
   "outputs": [],
   "source": [
    "#=============================================================\n",
    "# 데이터 셋 분할\n",
    "#=============================================================\n",
    "# set x and y\n",
    "X = weather_traf.drop(\"Y\", axis=1)\n",
    "y = weather_traf[\"Y\"]\n",
    "\n",
    "# split dataset\n",
    "X, X_test, y, y_test = train_test_split(X, y, test_size=0.2, random_state=1234)\n",
    "X_train, X_valid, y_train, y_valid = train_test_split(X, y, test_size=0.25, random_state=1234)\n",
    "X_train.shape, X_test.shape, X_valid.shape"
   ]
  },
  {
   "cell_type": "code",
   "execution_count": null,
   "metadata": {
    "collapsed": true,
    "id": "z1tV2bHSxT-h"
   },
   "outputs": [],
   "source": [
    "# 모형 구축\n",
    "#============================================================\n",
    "# 모형 튜닝 자동화\n",
    "#============================================================\n",
    "# cartesian grid search\n",
    "rate = [0.1, 0.05, 0.001]\n",
    "depth = [12, 15, 18]\n",
    "result1 = []\n",
    "result2 = []\n",
    "result3 = []\n",
    "\n",
    "for i in rate: # learning_rate를 0.1, 0.05, 0.001 로 변경하면서 결과 확인\n",
    "    for j in depth: # max_depth를 12, 15, 18 로 변경하면서 결과 확인\n",
    "        result1.append(i)\n",
    "        result2.append(j)\n",
    "        Traffic_GBM_Model = GradientBoostingRegressor(learning_rate=i, max_depth=j,\n",
    "                                                      subsample=0.85, # col_sample_rate\n",
    "                                                      min_samples_leaf=0.075, # min_rows: 218245의 0.075=16384.0\n",
    "                                                      max_features=0.51, # col_sample_rate * col_sample_rate_per_tree = 0.51\n",
    "                                                      min_impurity_decrease=0.0, # min_split_improvement\n",
    "                                                      n_estimators=148, # ntrees\n",
    "                                                      random_state=1234) # seed\n",
    "        # 분석환경을 고려한 빠른 결과 산출을 위해, 10% 의 데이터만 사용\n",
    "        Traffic_GBM_Model.fit(X_train.sample(frac=0.1, random_state=1234), y_train.sample(frac=0.1, random_state=1234)) # training_frame = X_train\n",
    "        pred = Traffic_GBM_Model.predict(X_valid.sample(frac=0.1, random_state=1234))  # validation_frame = X_valid\n",
    "        result3.append(np.sqrt(np.sum((y_valid.sample(frac=0.1, random_state=1234) - pred) ** 2) / len(pred)))"
   ]
  },
  {
   "cell_type": "code",
   "execution_count": null,
   "metadata": {
    "collapsed": true,
    "id": "1nxZZMjSxT-i"
   },
   "outputs": [],
   "source": [
    "#=============================================================\n",
    "# RMSE가 낮은 순으로 정렬하기\n",
    "#=============================================================\n",
    "gbm_gridperf = pd.DataFrame({\"learning_rate\" : result1,\n",
    "                             \"max_depth\" : result2,\n",
    "                             \"RMSE\" : result3}).sort_values(by=\"RMSE\")\n",
    "gbm_gridperf"
   ]
  },
  {
   "cell_type": "code",
   "execution_count": null,
   "metadata": {
    "collapsed": true,
    "id": "Nnzv9Xu-xT-i"
   },
   "outputs": [],
   "source": [
    "#============================================================\n",
    "# 모형 선택\n",
    "#============================================================\n",
    "# create Model\n",
    "Traffic_GBM_Model = GradientBoostingRegressor(max_depth=gbm_gridperf.loc[0]['max_depth'],\n",
    "                          learning_rate=gbm_gridperf.loc[0]['learning_rate'],\n",
    "                          subsample=0.85, # col_sample_rate\n",
    "                          min_samples_leaf=0.075, # min_rows: 218245의 0.075=16384.0\n",
    "                          max_features=0.51, # col_sample_rate * col_sample_rate_per_tree = 0.51\n",
    "                          min_impurity_decrease=0.0, # min_split_improvement\n",
    "                          n_estimators=148, # ntrees\n",
    "                          random_state=1234) # seed\n",
    "\n",
    "# __Model Summary ----\n",
    "Traffic_GBM_Model\n",
    "Traffic_GBM_Model.fit(X_train, y_train)  # training_frame = train\n",
    "pred = Traffic_GBM_Model.predict(X_valid)  # validation_frame = valid"
   ]
  },
  {
   "cell_type": "code",
   "execution_count": null,
   "metadata": {
    "collapsed": true,
    "id": "aRgKzIYVxT-i"
   },
   "outputs": [],
   "source": [
    "# __RMSE ----\n",
    "print(\"MAE :\", np.mean(abs(y_valid - pred)) )\n",
    "print(\"MSE :\", np.sum((y_valid - pred) ** 2) / len(pred) )\n",
    "print(\"RMSE :\", np.sqrt(np.sum((y_valid - pred) ** 2) / len(pred)) )\n",
    "print(\"RMSLE :\", np.sqrt(np.mean(np.power(np.log1p(pred) - np.log1p(y_valid), 2))))"
   ]
  },
  {
   "cell_type": "code",
   "execution_count": null,
   "metadata": {
    "collapsed": true,
    "id": "S_XNZHw3xT-j"
   },
   "outputs": [],
   "source": [
    "# 5. 모형 검증\n",
    "#=============================================================\n",
    "# 변수 중요도 파악(표)\n",
    "#=============================================================\n",
    "feature_list = pd.DataFrame({\"importances\":Traffic_GBM_Model.feature_importances_,\n",
    "                             \"feature_names\":X.columns.tolist()})\n",
    "feature_list = feature_list.sort_values(\"importances\", ascending=False)\n",
    "feature_list[\"scaled_importance\"] = feature_list[\"importances\"] / feature_list[\"importances\"].values[0]\n",
    "feature_list = feature_list[[\"feature_names\", \"scaled_importance\", \"importances\"]].reset_index(drop=True)\n",
    "feature_list"
   ]
  },
  {
   "cell_type": "code",
   "execution_count": null,
   "metadata": {
    "collapsed": true,
    "id": "nXi90eoTxT-j"
   },
   "outputs": [],
   "source": [
    "# 변수 중요도 파악(그래프)\n",
    "plt.figure(figsize=(10, 7))\n",
    "plt.title(\"Variable Importance : GBM\", fontsize=16)\n",
    "sns.barplot(data = feature_list, x=\"importances\", y=\"feature_names\", color=\"b\")"
   ]
  },
  {
   "cell_type": "code",
   "execution_count": null,
   "metadata": {
    "collapsed": true,
    "id": "ZLUb0DUvxT-j"
   },
   "outputs": [],
   "source": [
    "#============================================================\n",
    "# 모형 입력변수 선택\n",
    "#============================================================\n",
    "i_index = []\n",
    "rmse = []\n",
    "Traffic_GBM_Model_feature = Traffic_GBM_Model\n",
    "for i in [3, 5, 7, 9]: # 3, 5, 7, 9개의 변수 선택 위해 반복문 사용\n",
    "    cols_to_set = [\"CONZONE\", \"GISID\", \"month\", \"hour\"]\n",
    "    cols = cols_to_set + list(feature_list.feature_names[:i])\n",
    "\n",
    "    train_feature = X_train[cols]\n",
    "    valid_feature = X_valid[cols]\n",
    "\n",
    "    Traffic_GBM_Model_feature.fit(train_feature, y_train)  # training_frame = train_feature\n",
    "    pred = Traffic_GBM_Model_feature.predict(valid_feature)  # validation_frame = valid_feature\n",
    "\n",
    "    i_index.append(i)\n",
    "    rmse.append(np.sqrt(np.sum((y_valid - pred) ** 2) / len(pred)))\n",
    "    print(i, \"RMSE :\", np.sqrt(np.sum((y_valid - pred) ** 2) / len(pred)))"
   ]
  },
  {
   "cell_type": "code",
   "execution_count": null,
   "metadata": {
    "collapsed": true,
    "id": "6FgxXD6CxT-j"
   },
   "outputs": [],
   "source": [
    "#============================================================\n",
    "# Model rmse\n",
    "#============================================================\n",
    "feature_test = pd.DataFrame({\"RMSE\":rmse}, index=i_index).sort_values(\"RMSE\", ascending=True)\n",
    "\n",
    "feature_test"
   ]
  },
  {
   "cell_type": "code",
   "execution_count": null,
   "metadata": {
    "collapsed": true,
    "id": "C8fbEX7uxT-k"
   },
   "outputs": [],
   "source": [
    "#=============================================================\n",
    "# 최종 모형 선택\n",
    "#=============================================================\n",
    "best_i = feature_test.index[0]\n",
    "cols = cols_to_set + list(feature_list.feature_names[:best_i])\n",
    "\n",
    "train_feature = X_train[cols] # train_feature <- train\n",
    "test_feature = X_test[cols]  # test_feature <- test\n",
    "\n",
    "# create Model\n",
    "Traffic_GBM_Model_final = Traffic_GBM_Model\n",
    "\n",
    "# Model Summary\n",
    "Traffic_GBM_Model_final"
   ]
  },
  {
   "cell_type": "code",
   "execution_count": null,
   "metadata": {
    "collapsed": true,
    "id": "VJflGqcFxT-k"
   },
   "outputs": [],
   "source": [
    "# 모형 성능 및 예측력 파악\n",
    "#=============================================================\n",
    "# 모형 성능\n",
    "#=============================================================\n",
    "# Predict on test set\n",
    "Traffic_GBM_Model_final.fit(train_feature, y_train)\n",
    "pred = Traffic_GBM_Model_final.predict(test_feature)\n",
    "\n",
    "print(\"MODEL : Traffic_GBM_Model_final\")\n",
    "print(\"MAE :\", np.mean(abs(y_test - pred)))\n",
    "print(\"MSE :\", np.sum((y_test - pred) ** 2) / len(pred))\n",
    "print(\"RMSE :\", np.sqrt(np.sum((y_test - pred) ** 2) / len(pred)))\n",
    "print(\"RMSLE :\", np.sqrt(np.mean(np.power(np.log1p(pred) - np.log1p(y_test), 2))))"
   ]
  },
  {
   "cell_type": "code",
   "execution_count": null,
   "metadata": {
    "collapsed": true,
    "id": "5Pl-EE8kxT-k"
   },
   "outputs": [],
   "source": [
    "#=============================================================\n",
    "#  RMSE\n",
    "#=============================================================\n",
    "Pred_conversion = pd.DataFrame({\"pred_col\":pred, \"y_test_col\":y_test}).set_index(\"y_test_col\")\n",
    "RMSE = np.sqrt(np.sum((y_test - pred) ** 2) / len(pred))\n",
    "plt.figure(figsize=(12, 6))\n",
    "sns.scatterplot(data=Pred_conversion, x=Pred_conversion.index, y=\"pred_col\")\n",
    "plt.title(\"rmse = \" + str(RMSE), fontsize=16, loc=\"left\")\n",
    "plt.xlabel(\"TRUE\")\n",
    "plt.ylabel(\"Prediction\")"
   ]
  }
 ],
 "metadata": {
  "anaconda-cloud": {},
  "colab": {
   "name": "weather_traf.ipynb",
   "provenance": []
  },
  "kernelspec": {
   "display_name": "Python 3",
   "language": "python",
   "name": "python3"
  },
  "language_info": {
   "codemirror_mode": {
    "name": "ipython",
    "version": 3
   },
   "file_extension": ".py",
   "mimetype": "text/x-python",
   "name": "python",
   "nbconvert_exporter": "python",
   "pygments_lexer": "ipython3",
   "version": "3.6.2"
  },
  "toc": {
   "base_numbering": 1,
   "nav_menu": {},
   "number_sections": true,
   "sideBar": true,
   "skip_h1_title": false,
   "title_cell": "Table of Contents",
   "title_sidebar": "Contents",
   "toc_cell": false,
   "toc_position": {},
   "toc_section_display": true,
   "toc_window_display": false
  },
  "varInspector": {
   "cols": {
    "lenName": 16,
    "lenType": 16,
    "lenVar": 40
   },
   "kernels_config": {
    "python": {
     "delete_cmd_postfix": "",
     "delete_cmd_prefix": "del ",
     "library": "var_list.py",
     "varRefreshCmd": "print(var_dic_list())"
    },
    "r": {
     "delete_cmd_postfix": ") ",
     "delete_cmd_prefix": "rm(",
     "library": "var_list.r",
     "varRefreshCmd": "cat(var_dic_list()) "
    }
   },
   "types_to_exclude": [
    "module",
    "function",
    "builtin_function_or_method",
    "instance",
    "_Feature"
   ],
   "window_display": false
  }
 },
 "nbformat": 4,
 "nbformat_minor": 1
}
